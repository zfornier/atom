{
  "nbformat": 4,
  "nbformat_minor": 0,
  "metadata": {
    "accelerator": "GPU",
    "colab": {
      "name": "Ex1.ipynb",
      "provenance": [],
      "collapsed_sections": [],
      "include_colab_link": true
    },
    "kernelspec": {
      "display_name": "Python 3",
      "language": "python",
      "name": "python3"
    },
    "language_info": {
      "codemirror_mode": {
        "name": "ipython",
        "version": 3
      },
      "file_extension": ".py",
      "mimetype": "text/x-python",
      "name": "python",
      "nbconvert_exporter": "python",
      "pygments_lexer": "ipython3",
      "version": "3.7.5"
    }
  },
  "cells": [
    {
      "cell_type": "markdown",
      "metadata": {
        "id": "view-in-github",
        "colab_type": "text"
      },
      "source": [
        "<a href=\"https://colab.research.google.com/github/zfornier/atom/blob/master/TP2%20SD%20TSIA%20210%20exo1.ipynb\" target=\"_parent\"><img src=\"https://colab.research.google.com/assets/colab-badge.svg\" alt=\"Open In Colab\"/></a>"
      ]
    },
    {
      "cell_type": "markdown",
      "metadata": {
        "colab_type": "text",
        "id": "iafPdtuncbq7"
      },
      "source": [
        "<h2><center>MNIST classification using Numpy</center></h2>\n",
        "\n",
        "## Zoé Fornier"
      ]
    },
    {
      "cell_type": "markdown",
      "metadata": {
        "colab_type": "text",
        "id": "I4VrCB5La5rD"
      },
      "source": [
        "# Importing Numpy and Keras"
      ]
    },
    {
      "cell_type": "code",
      "metadata": {
        "colab_type": "code",
        "id": "OlKZ3Hnas7B4",
        "outputId": "fde9a290-ce11-429e-ddd1-9bd11a2e50f7",
        "colab": {
          "base_uri": "https://localhost:8080/",
          "height": 135
        }
      },
      "source": [
        "import numpy as np\n",
        "# Importing the Keras main module forcing tensorflow 1.x backend\n",
        "import tensorflow as tf\n",
        "import keras\n",
        "print(\"Using tensorflow version \" + str(tf.__version__))\n",
        "print(\"Using keras version \" + str(keras.__version__))"
      ],
      "execution_count": 0,
      "outputs": [
        {
          "output_type": "display_data",
          "data": {
            "text/html": [
              "<p style=\"color: red;\">\n",
              "The default version of TensorFlow in Colab will soon switch to TensorFlow 2.x.<br>\n",
              "We recommend you <a href=\"https://www.tensorflow.org/guide/migrate\" target=\"_blank\">upgrade</a> now \n",
              "or ensure your notebook will continue to use TensorFlow 1.x via the <code>%tensorflow_version 1.x</code> magic:\n",
              "<a href=\"https://colab.research.google.com/notebooks/tensorflow_version.ipynb\" target=\"_blank\">more info</a>.</p>\n"
            ],
            "text/plain": [
              "<IPython.core.display.HTML object>"
            ]
          },
          "metadata": {
            "tags": []
          }
        },
        {
          "output_type": "stream",
          "text": [
            "Using tensorflow version 1.15.0\n",
            "Using keras version 2.2.5\n"
          ],
          "name": "stdout"
        },
        {
          "output_type": "stream",
          "text": [
            "Using TensorFlow backend.\n"
          ],
          "name": "stderr"
        }
      ]
    },
    {
      "cell_type": "markdown",
      "metadata": {
        "colab_type": "text",
        "id": "s_QLz9_jbRZq"
      },
      "source": [
        "# Loading and preparing the MNIST dataset\n",
        "Load the MNIST dataset made available by keras.datasets\n",
        "Verify the amount of system memory available before and after loading the dataset."
      ]
    },
    {
      "cell_type": "code",
      "metadata": {
        "cellView": "both",
        "colab_type": "code",
        "id": "gG83hGyVmijn",
        "outputId": "fa02c615-5688-4984-dd2b-428c72ee869a",
        "colab": {
          "base_uri": "https://localhost:8080/",
          "height": 53
        }
      },
      "source": [
        "#@title\n",
        "# The MNSIT dataset is ready to be imported from Keras into RAM\n",
        "# Warning: you cannot do that for larger databases (e.g., ImageNet)\n",
        "from keras.datasets import mnist\n",
        "# START CODE HERE\n",
        "import psutil\n",
        "memory_before=psutil.virtual_memory()\n",
        "(x1, y1), (x2, y2) = mnist.load_data()\n",
        "memory_after=psutil.virtual_memory()\n",
        "\n",
        "print(\"The amount of system memory available before loading the dataset is : \" + str(memory_before.available))\n",
        "print(\"The amount of system memory available after loading the dataset is : \" + str(memory_after.available))\n",
        "# END CODE HERE\n"
      ],
      "execution_count": 0,
      "outputs": [
        {
          "output_type": "stream",
          "text": [
            "The amount of system memory available before loading the dataset is : 12683431936\n",
            "The amount of system memory available after loading the dataset is : 12625645568\n"
          ],
          "name": "stdout"
        }
      ]
    },
    {
      "cell_type": "markdown",
      "metadata": {
        "colab_type": "text",
        "id": "gRPbU_Z4U6Ac"
      },
      "source": [
        "The MNIST database contains 60,000 training images and 10,000 testing images.\n",
        "Using the pyplot package, visualize the fist sample of the training set:"
      ]
    },
    {
      "cell_type": "code",
      "metadata": {
        "colab_type": "code",
        "id": "x5VAu7oW0Zu4",
        "outputId": "4bf72a57-b19c-4f99-ae9c-a1ee045fa7c1",
        "colab": {
          "base_uri": "https://localhost:8080/",
          "height": 283
        }
      },
      "source": [
        "# Let us visualize the first training sample using the Gnuplot library\n",
        "from matplotlib import pyplot as plt\n",
        "# START CODE HERE\n",
        "plt.imshow(x1[0])\n",
        "# END CODE HERE"
      ],
      "execution_count": 0,
      "outputs": [
        {
          "output_type": "execute_result",
          "data": {
            "text/plain": [
              "<matplotlib.image.AxesImage at 0x7f5ac1ff9f98>"
            ]
          },
          "metadata": {
            "tags": []
          },
          "execution_count": 3
        },
        {
          "output_type": "display_data",
          "data": {
            "image/png": "[encoded data removed]",
            "text/plain": [
              "<Figure size 432x288 with 1 Axes>"
            ]
          },
          "metadata": {
            "tags": []
          }
        }
      ]
    },
    {
      "cell_type": "markdown",
      "metadata": {
        "colab_type": "text",
        "id": "s7YsRekMVDg-"
      },
      "source": [
        "The database contains images of handwritten digits. Hence, they belong to one of 10 categories, depending on the digit they represent. \n",
        "Reminder: in order to do multi-class classification, we use the softmax function, which outputs a multinomial probability distribution. That means that the output to our model will be a vector of size $10$, containing probabilities (meaning that the elements of the vector will be positive sum to $1$).\n",
        "For easy computation, we want to true labels to be represented with the same format: that is what we call **one-hot encoding**. For example, if an image $\\mathbf{x}$ represents the digit $5$, we have the corresponding one_hot label (careful, $0$ will be the first digit): \n",
        "$$ \\mathbf{y} = [0, 0, 0, 0, 0, 1, 0, 0, 0, 0] $$\n",
        "Here, you need to turn train and test labels to one-hot encoding using the following function: "
      ]
    },
    {
      "cell_type": "code",
      "metadata": {
        "colab_type": "code",
        "id": "lQbkllF8mnaf",
        "colab": {}
      },
      "source": [
        "from keras.utils.np_utils import to_categorical\n",
        "# START CODE HERE\n",
        "y_train=to_categorical(y1,10)\n",
        "y_test=to_categorical(y2,10)\n",
        "# END CODE HERE"
      ],
      "execution_count": 0,
      "outputs": []
    },
    {
      "cell_type": "markdown",
      "metadata": {
        "colab_type": "text",
        "id": "0jv29YLtVO3q"
      },
      "source": [
        "Images are black and white, with size $28 \\times 28$. We will work with them using a simple linear classification model, meaning that we will have them as vectors of size $(784)$.\n",
        "You should then transform the images to the size $(784)$ using the numpy function ```reshape```,\n",
        "\n",
        "Then, after casting the pixels to floats, normalize the images so that they have zero-mean and unitary deviation. Be careful to your methodology: while you have access to training data, you may not have access to testing data, and must avoid using any statistic on the testing dataset."
      ]
    },
    {
      "cell_type": "code",
      "metadata": {
        "colab_type": "code",
        "id": "ptTRSDo5nJyZ",
        "colab": {}
      },
      "source": [
        "# Reshape to proper images with 1 color channel according to backend scheme\n",
        "img_rows, img_cols = x1.shape[1], x1.shape[2]\n",
        "\n",
        "# START CODE HERE\n",
        "x1 =  x1.reshape(x1.shape[0], img_cols*img_rows)\n",
        "x2 = x2.reshape(x2.shape[0],img_rows*img_cols)\n",
        "# END CODE HERE\n",
        "\n",
        "# Cast pixels from uint8 to float32\n",
        "x1 = x1.astype('float32')\n",
        "\n",
        "# Now let us normalize the images so that they have zero mean and standard deviation\n",
        "# Hint: are real testing data statistics known at training time ?\n",
        "# START CODE HERE\n",
        "mean=np.mean(x1)\n",
        "std=np.std(x1)\n",
        "\n",
        "x_train = (x1 - mean)/std\n",
        "\n",
        "x_test = (x2 - mean)/std\n",
        "# END CODE HERE"
      ],
      "execution_count": 0,
      "outputs": []
    },
    {
      "cell_type": "markdown",
      "metadata": {
        "id": "kmQsGqn7TIgt",
        "colab_type": "text"
      },
      "source": [
        "# Working with Numpy\n",
        "\n",
        "Look at this [cheatsheet](https://s3.amazonaws.com/assets.datacamp.com/blog_assets/Numpy_Python_Cheat_Sheet.pdf) for some basic information on how to use numpy.\n",
        "\n",
        "## Defining the model \n",
        "\n",
        "We will here create a simple, linear classification model. We will take each pixel in the image as an input feature (making the size of the input to be $784$) and transform these features with a weight matrix $\\mathbf{W}$ and a bias vector $\\mathbf{b}$. Since there is $10$ possible classes, we want to obtain $10$ scores. Then, \n",
        "$$ \\mathbf{W} \\in \\mathbb{R}^{784 \\times 10} $$\n",
        "$$ \\mathbf{b} \\in \\mathbb{R}^{10} $$\n",
        "\n",
        "and our scores are obtained with:\n",
        "$$ \\mathbf{z} = \\mathbf{W}^{T} \\mathbf{x} +  \\mathbf{b} $$\n",
        "\n",
        "where $\\mathbf{x} \\in \\mathbb{R}^{784}$ is the input vector representing an image.\n",
        "We note $\\mathbf{y} \\in \\mathbb{R}^{10}$ as the target one_hot vector. \n",
        "\n",
        "Here, you fist need to initialize $\\mathbf{W}$ and $\\mathbf{b}$ using ```np.random.normal``` and ```np.zeros```, then compute $\\mathbf{z}$."
      ]
    },
    {
      "cell_type": "code",
      "metadata": {
        "id": "E0X8AM1YTIgv",
        "colab_type": "code",
        "colab": {}
      },
      "source": [
        "# To avoid implementing a complicated gradient back-propagation,\n",
        "# we will try a very simple architecture with no hidden layer \n",
        "def initLayer(n_input,n_output):\n",
        "    \"\"\"\n",
        "    Initialize the weights, return the number of parameters\n",
        "    Inputs: n_input: the number of input units - int\n",
        "          : n_output: the number of output units - int\n",
        "    Outputs: W: a matrix of weights for the layer - numpy ndarray\n",
        "           : b: a vector bias for the layer - numpy ndarray\n",
        "           : nb_params: the number of parameters  - int\n",
        "    \"\"\"\n",
        "    # START CODE HERE\n",
        "    W=np.random.normal(size=(n_input,n_output))\n",
        "    b=np.zeros(n_output)\n",
        "    nb_params=n_input*n_output + n_output\n",
        "    # END CODE HERE\n",
        "    return W, b, nb_params"
      ],
      "execution_count": 0,
      "outputs": []
    },
    {
      "cell_type": "code",
      "metadata": {
        "id": "0MmqTlhVTIgz",
        "colab_type": "code",
        "colab": {}
      },
      "source": [
        "n_training = x_train.shape[0] \n",
        "n_feature = x_train.shape[1]\n",
        "n_labels = 10\n",
        "W, b, nb_params = initLayer(n_feature, n_labels)"
      ],
      "execution_count": 0,
      "outputs": []
    },
    {
      "cell_type": "code",
      "metadata": {
        "id": "9srIsOTcTIg7",
        "colab_type": "code",
        "colab": {}
      },
      "source": [
        "def forward(W, b, X):\n",
        "    \"\"\"\n",
        "    Perform the forward propagation\n",
        "    Inputs: W: the weights - numpy ndarray\n",
        "          : b: the bias - numpy ndarray\n",
        "          : X: the batch - numpy ndarray\n",
        "    Outputs: z: outputs - numpy ndarray\n",
        "    \"\"\"\n",
        "    z = np.dot(W.T,X)+b\n",
        "    return z"
      ],
      "execution_count": 0,
      "outputs": []
    },
    {
      "cell_type": "markdown",
      "metadata": {
        "id": "Ha5idqYITIhA",
        "colab_type": "text"
      },
      "source": [
        "## Computing the output \n",
        "\n",
        "To obtain classification probabilities, we use the softmax function:\n",
        "$$ \\mathbf{o} = softmax(\\mathbf{z}) \\text{         with          } o_i = \\frac{\\exp(z_i)}{\\sum_{j=0}^{9} \\exp(z_j)} $$\n",
        "\n",
        "The usual difficulty with the softmax function is the possibility of overflow when the scores $z_i$ are already large. Since a softmax is not affected by a shift affecting the whole vector $\\mathbf{z}$:\n",
        "$$ \\frac{\\exp(z_i - c)}{\\sum_{j=0}^{9} \\exp(z_j - c)} =  \\frac{\\exp(c) \\exp(z_i)}{\\exp(c) \\sum_{j=0}^{9} \\exp(z_j)} = \\frac{\\exp(z_i)}{\\sum_{j=0}^{9} \\exp(z_j)}$$\n",
        "what trick can we use to ensure we will not encounter any overflow ? "
      ]
    },
    {
      "cell_type": "code",
      "metadata": {
        "id": "8u6FVYVzTIhC",
        "colab_type": "code",
        "colab": {}
      },
      "source": [
        "def softmax(z):\n",
        "    \"\"\"\n",
        "    Perform the softmax transformation to the pre-activation values\n",
        "    Inputs: z: the pre-activation values - numpy ndarray\n",
        "    Outputs: out: the activation values - numpy ndarray\n",
        "    \"\"\"\n",
        "    z2=z-np.mean(z)\n",
        "    out = np.exp(z2)/np.sum(np.exp(z2))\n",
        "    return out"
      ],
      "execution_count": 0,
      "outputs": []
    },
    {
      "cell_type": "markdown",
      "metadata": {
        "id": "6_EzoYoqTIhH",
        "colab_type": "text"
      },
      "source": [
        "## Making updates\n",
        "\n",
        "We define a learning rate $\\eta$. The goal is to be able to apply updates:\n",
        "$$ \\mathbf{W}^{t+1} = \\mathbf{W}^{t} - \\eta \\nabla_{\\mathbf{W}} l_{ML} $$\n",
        "\n",
        "In order to do this, we will compute this gradient (and the bias) in the function ```update```. In the next function ```updateParams```, we will actually apply the update with regularization. \n",
        "\n",
        "Reminder: the gradient $\\nabla_{\\mathbf{W}} l_{ML}$ is the matrix containing the partial derivatives \n",
        "$$ \\left[\\frac{\\delta l_{ML}}{\\delta W_{ij}}\\right]_{i=1..784, j=1..10} $$\n",
        "\n",
        "\n",
        "Coordinate by coordinate, we obtain the following update: \n",
        "$$ W_{ij}^{t+1} = W_{ij}^{t} - \\frac{\\delta l_{ML}}{\\delta W_{ij}} $$\n",
        "\n",
        "Via the chain rule, we obtain, for an input feature $i \\in [0, 783]$ and a output class $j \\in [0, 9]$: $$\\frac{\\delta l_{ML}}{\\delta W_{ij}} = \\frac{\\delta l_{ML}}{\\delta z_{j}} \\frac{\\delta z_j}{\\delta W_{ij}}$$ \n",
        "\n",
        "It's easy to compute that $\\frac{\\delta z_j}{\\delta W_{ij}} = x_i$\n",
        "\n",
        "We compute the softmax derivative, to obtain:\n",
        "$$ \\nabla_{\\mathbf{z}} l_{ML} = \\mathbf{o} - \\mathbf{y} $$\n",
        "\n",
        "Hence, $\\frac{\\delta l_{ML}}{\\delta z_{j}} = o_j - y_j$ and we obtain that $$\\frac{\\delta l_{ML}}{\\delta W_{ij}} = (o_j - y_j) x_i$$\n",
        "\n",
        "This can easily be written as a scalar product, and a similar computation (even easier, actually) can be done for $\\mathbf{b}$. Noting $\\nabla_{\\mathbf{z}} l_{ML} = \\mathbf{o} - \\mathbf{y}$ as ```grad``` in the following function, compute the gradients $\\nabla_{\\mathbf{W}} l_{ML}$ and $\\nabla_{\\mathbf{b}} l_{ML}$ in order to call the function ```updateParams```.\n",
        "\n",
        "Note: the regularizer and the weight_decay $\\lambda$ are used in ```updateParams```."
      ]
    },
    {
      "cell_type": "code",
      "metadata": {
        "id": "oSB5k5zFTIhJ",
        "colab_type": "code",
        "colab": {}
      },
      "source": [
        "def update(eta, W, b, grad, X, regularizer, weight_decay):\n",
        "    \"\"\"\n",
        "    Perform the update of the parameters\n",
        "    Inputs: eta: the step-size of the gradient descent - float \n",
        "          : W: the weights - ndarray\n",
        "          : b: the bias -  ndarray\n",
        "          : grad: the gradient of the activations w.r.t. to the loss -  list of ndarray\n",
        "          : X: the data -  ndarray\n",
        "          : regularizer: 'L2' or None - the regularizer to be used in updateParams\n",
        "          : weight_decay: the weight decay to be used in updateParams - float\n",
        "    Outputs: W: the weights updated -  ndarray\n",
        "           : b: the bias updated -  ndarray\n",
        "    \"\"\"\n",
        "    #(n,m)=np.shape(W)\n",
        "    #grad_w = np.zeros((n,m))\n",
        "    #for i in range(n):\n",
        "    #  for j in range(m):\n",
        "    #    grad_w[i][j]=X[i]*grad[j]\n",
        "\n",
        "    grad_w=np.dot(X.reshape(-1,1),grad.reshape(1,-1))\n",
        "    grad_b = grad\n",
        "\n",
        "    W = updateParams(W, grad_w, eta, regularizer, weight_decay)\n",
        "    b = updateParams(b, grad_b, eta, regularizer, weight_decay)\n",
        "    return W, b"
      ],
      "execution_count": 0,
      "outputs": []
    },
    {
      "cell_type": "markdown",
      "metadata": {
        "id": "EvRlRKCjTIhN",
        "colab_type": "text"
      },
      "source": [
        "The update rule is affected by regularization. We implement two cases: No regularization, or L2 regularization. Use the two possible update rules to implement the following function:"
      ]
    },
    {
      "cell_type": "code",
      "metadata": {
        "id": "rX2V2fNwTIhO",
        "colab_type": "code",
        "colab": {}
      },
      "source": [
        "def updateParams(param, grad_param, eta, regularizer=None, weight_decay=0.):\n",
        "    \"\"\"\n",
        "    Perform the update of the parameters\n",
        "    Inputs: param: the network parameters - ndarray\n",
        "          : grad_param: the updates of the parameters - ndarray\n",
        "          : eta: the step-size of the gradient descent - float\n",
        "          : weight_decay: the weight-decay - float\n",
        "    Outputs: the parameters updated - ndarray\n",
        "    \"\"\"\n",
        "    if regularizer==None:\n",
        "        return param - eta*grad_param\n",
        "    elif regularizer=='L2':\n",
        "        return  (1 - 2 * weight_decay)*param - eta * grad_param\n",
        "    else:\n",
        "        raise NotImplementedError"
      ],
      "execution_count": 0,
      "outputs": []
    },
    {
      "cell_type": "markdown",
      "metadata": {
        "id": "lYGZn1tnTIhT",
        "colab_type": "text"
      },
      "source": [
        "## Computing the Accuracy\n",
        "\n",
        "Here, we simply use the model to predict the class (by taking the argmax of the output !) for every example in ```X```, and count the number of times the model is right, to output the accuracy."
      ]
    },
    {
      "cell_type": "code",
      "metadata": {
        "id": "AMpJX-sYTIhZ",
        "colab_type": "code",
        "colab": {}
      },
      "source": [
        "def computeAcc(W, b, X, labels):\n",
        "    \"\"\"\n",
        "    Compute the loss value of the current network on the full batch\n",
        "    Inputs: W: the weights - list of ndarray\n",
        "          : B: the bias - list of ndarray\n",
        "          : X: the batch - ndarray\n",
        "          : labels: the labels corresponding to the batch\n",
        "    Outputs: loss: the negative log-likelihood - float\n",
        "           : accuracy: the ratio of examples that are well-classified - float\n",
        "    \"\"\" \n",
        "    n=np.shape(X)[0]\n",
        "    accuracy=0\n",
        "\n",
        "    for j in range(n):\n",
        "        ### Forward propagation\n",
        "        z = forward(W,b,X[j])\n",
        " \n",
        "        ### Compute the softmax and the prediction\n",
        "        out = softmax(z)\n",
        "        pred = to_categorical(np.argmax(out),10)\n",
        "    \n",
        "        ### Compute the accuracy\n",
        "        if np.all(pred == labels[j]):\n",
        "            accuracy += 1\n",
        "      \n",
        "    return accuracy/len(labels)"
      ],
      "execution_count": 0,
      "outputs": []
    },
    {
      "cell_type": "markdown",
      "metadata": {
        "id": "SAF_kfRCTIhe",
        "colab_type": "text"
      },
      "source": [
        "## Preparing training\n",
        "\n",
        "The following hyperparameters are given. Next, we can assemble all the function previously defined to implement a training loop. We will train the classifier on **one epoch**, meaning that the model will see each trainin example once. "
      ]
    },
    {
      "cell_type": "code",
      "metadata": {
        "id": "8hpuw7euTIhf",
        "colab_type": "code",
        "colab": {}
      },
      "source": [
        "# Optimization\n",
        "eta = 0.01\n",
        "regularizer = None\n",
        "weight_d = 0.0001\n",
        "\n",
        "# Training\n",
        "log_interval = 5000"
      ],
      "execution_count": 0,
      "outputs": []
    },
    {
      "cell_type": "code",
      "metadata": {
        "id": "SteDm8vQTIhj",
        "colab_type": "code",
        "outputId": "8a398b3d-4a82-4875-84d7-147f27b042b3",
        "colab": {
          "base_uri": "https://localhost:8080/",
          "height": 249
        }
      },
      "source": [
        "# Data structures for plotting\n",
        "g_train_acc=[]\n",
        "g_valid_acc=[]\n",
        "\n",
        "#######################\n",
        "### Learning process ##\n",
        "#######################\n",
        "for j in range(n_training):\n",
        "    ### Getting the example\n",
        "    X, y = x_train[j],y_train[j]\n",
        "    ### Forward propagation\n",
        "    z = forward(W,b,X)\n",
        "\n",
        "    ### Compute the softmax\n",
        "    out = softmax(z)\n",
        "        \n",
        "    ### Compute the gradient at the top layer\n",
        "    derror = out - y # This is o - y \n",
        "\n",
        "    ### Update the parameters\n",
        "    W, b = update(eta,W,b,derror,X,regularizer,weight_decay=weight_d)\n",
        "\n",
        "    if j % log_interval == 0:\n",
        "        ### Every log_interval examples, look at the training accuracy\n",
        "        train_accuracy = computeAcc(W, b, x_train, y_train) \n",
        "\n",
        "        ### And the testing accuracy\n",
        "        test_accuracy = computeAcc(W, b, x_test, y_test) \n",
        "\n",
        "        g_train_acc.append(train_accuracy)\n",
        "        g_valid_acc.append(test_accuracy)\n",
        "        result_line = str(int(j)) + \" \" + str(train_accuracy) + \" \" + str(test_accuracy) + \" \" + str(eta)\n",
        "        print(result_line)\n",
        "\n",
        "g_train_acc.append(train_accuracy)\n",
        "g_valid_acc.append(test_accuracy)\n",
        "result_line = \"Final result:\" + \" \" + str(train_accuracy) + \" \" + str(test_accuracy) + \" \" + str(eta)\n",
        "print(result_line)     "
      ],
      "execution_count": 0,
      "outputs": [
        {
          "output_type": "stream",
          "text": [
            "0 0.7662 0.7628 0.01\n",
            "5000 0.86635 0.8751 0.01\n",
            "10000 0.8681333333333333 0.8754 0.01\n",
            "15000 0.8574833333333334 0.8596 0.01\n",
            "20000 0.8762166666666666 0.8782 0.01\n",
            "25000 0.8634666666666667 0.8663 0.01\n",
            "30000 0.8625833333333334 0.8616 0.01\n",
            "35000 0.8851833333333333 0.885 0.01\n",
            "40000 0.8638166666666667 0.863 0.01\n",
            "45000 0.8895666666666666 0.8864 0.01\n",
            "50000 0.8797666666666667 0.8827 0.01\n",
            "55000 0.87585 0.872 0.01\n",
            "Final result: 0.87585 0.872 0.01\n"
          ],
          "name": "stdout"
        }
      ]
    },
    {
      "cell_type": "markdown",
      "metadata": {
        "id": "pnopEzDXTIhp",
        "colab_type": "text"
      },
      "source": [
        "What can you say about the performance of this simple linear classifier ? \n",
        "\n",
        "The performance is pretty good (around 80% with L2 regularizer, and around 88% without regularizer) but not optimal."
      ]
    }
  ]
}